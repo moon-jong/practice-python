{
 "cells": [
  {
   "cell_type": "code",
   "execution_count": 1,
   "metadata": {},
   "outputs": [],
   "source": [
    "%matplotlib qt5\n",
    "from numpy import random\n",
    "import numpy as np\n",
    "import matplotlib.pyplot as plt\n",
    "\n",
    "N = 10000000 #dart thown\n",
    "\n",
    "circle_x = []\n",
    "circle_y = []\n",
    "\n",
    "square_x = []\n",
    "square_y = []"
   ]
  },
  {
   "cell_type": "code",
   "execution_count": 2,
   "metadata": {},
   "outputs": [
    {
     "name": "stdout",
     "output_type": "stream",
     "text": [
      "7853966\n",
      "PI is approximately 3.1415864\n",
      "\n",
      "PI actually is :3.141592653589793\n"
     ]
    }
   ],
   "source": [
    "i = 1\n",
    "actual_pi = np.pi\n",
    "while i <= N :\n",
    "    x = random.uniform(-1,1)\n",
    "    y = random.uniform(-1,1)\n",
    "    if (x**2 + y**2 <= 1):\n",
    "        circle_x.append(x)\n",
    "        circle_y.append(y)\n",
    "    else:\n",
    "        square_x.append(x)\n",
    "        square_y.append(y)\n",
    "    i +=1\n",
    "    \n",
    "pi = 4*(len(circle_x)/float(N))\n",
    "\n",
    "print(len(circle_x))\n",
    "print(f\"PI is approximately {pi}\")\n",
    "print(\"\")\n",
    "print(f\"PI actually is :{actual_pi}\")\n",
    "\n",
    "plt.plot(circle_x,circle_y,\"b.\")\n",
    "plt.plot(square_x,square_y,\"g.\")\n",
    "plt.grid()"
   ]
  },
  {
   "cell_type": "code",
   "execution_count": null,
   "metadata": {},
   "outputs": [],
   "source": []
  },
  {
   "cell_type": "code",
   "execution_count": null,
   "metadata": {},
   "outputs": [],
   "source": []
  },
  {
   "cell_type": "code",
   "execution_count": null,
   "metadata": {},
   "outputs": [],
   "source": []
  }
 ],
 "metadata": {
  "kernelspec": {
   "display_name": "Python 3",
   "language": "python",
   "name": "python3"
  },
  "language_info": {
   "codemirror_mode": {
    "name": "ipython",
    "version": 3
   },
   "file_extension": ".py",
   "mimetype": "text/x-python",
   "name": "python",
   "nbconvert_exporter": "python",
   "pygments_lexer": "ipython3",
   "version": "3.7.3"
  }
 },
 "nbformat": 4,
 "nbformat_minor": 2
}
